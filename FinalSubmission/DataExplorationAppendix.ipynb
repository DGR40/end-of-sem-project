{
 "cells": [
  {
   "cell_type": "markdown",
   "metadata": {},
   "source": [
    "<h1> Data Exploration Appendix </h1>"
   ]
  },
  {
   "cell_type": "markdown",
   "metadata": {},
   "source": [
    "In this file, we will further explore how we became familiar with carcinogen data and drew conclusions regarding its relationship with Leukemia incidence rate."
   ]
  },
  {
   "cell_type": "code",
   "execution_count": 33,
   "metadata": {},
   "outputs": [
    {
     "data": {
      "text/html": [
       "<div>\n",
       "<style scoped>\n",
       "    .dataframe tbody tr th:only-of-type {\n",
       "        vertical-align: middle;\n",
       "    }\n",
       "\n",
       "    .dataframe tbody tr th {\n",
       "        vertical-align: top;\n",
       "    }\n",
       "\n",
       "    .dataframe thead th {\n",
       "        text-align: right;\n",
       "    }\n",
       "</style>\n",
       "<table border=\"1\" class=\"dataframe\">\n",
       "  <thead>\n",
       "    <tr style=\"text-align: right;\">\n",
       "      <th></th>\n",
       "      <th>Unnamed: 0</th>\n",
       "      <th>County</th>\n",
       "      <th>Age-Adjusted Incidence Rate(‚Ä†) - cases per 100,000</th>\n",
       "      <th>2014 Percentage of Children with Confirmed BLLs ≥ 10 µg/dL</th>\n",
       "      <th>2015 Percentage of Children with Confirmed BLLs ≥ 10 µg/dL</th>\n",
       "      <th>2016 Percentage of Children with Confirmed BLLs ≥ 10 µg/dL</th>\n",
       "      <th>2014 Percentage of Children with Confirmed BLLs ≥ 5 µg/dL</th>\n",
       "      <th>2015 Percentage of Children with Confirmed BLLs ≥ 5 µg/dL</th>\n",
       "      <th>2016 Percentage of Children with Confirmed BLLs ≥ 5 µg/dL</th>\n",
       "      <th>Weighted_Average_2014_HAA5</th>\n",
       "      <th>Weighted_Average_2015_HAA5</th>\n",
       "      <th>Weighted_Average_2016_HAA5</th>\n",
       "      <th>Weighted_Average_2014_Arsenic</th>\n",
       "      <th>Weighted_Average_2015_Arsenic</th>\n",
       "      <th>Weighted_Average_2016_Arsenic</th>\n",
       "    </tr>\n",
       "  </thead>\n",
       "  <tbody>\n",
       "    <tr>\n",
       "      <th>0</th>\n",
       "      <td>0</td>\n",
       "      <td>Adams County</td>\n",
       "      <td>17.5</td>\n",
       "      <td>1.6</td>\n",
       "      <td>1.6</td>\n",
       "      <td>1.1</td>\n",
       "      <td>8.2</td>\n",
       "      <td>7.0</td>\n",
       "      <td>4.7</td>\n",
       "      <td>9.026538</td>\n",
       "      <td>5.805758</td>\n",
       "      <td>6.104211</td>\n",
       "      <td>0.700000</td>\n",
       "      <td>1.495946</td>\n",
       "      <td>0.700000</td>\n",
       "    </tr>\n",
       "    <tr>\n",
       "      <th>1</th>\n",
       "      <td>1</td>\n",
       "      <td>Allegheny County</td>\n",
       "      <td>16.3</td>\n",
       "      <td>1.2</td>\n",
       "      <td>1.0</td>\n",
       "      <td>0.9</td>\n",
       "      <td>5.4</td>\n",
       "      <td>4.6</td>\n",
       "      <td>3.8</td>\n",
       "      <td>14.252286</td>\n",
       "      <td>18.495556</td>\n",
       "      <td>15.983889</td>\n",
       "      <td>0.663636</td>\n",
       "      <td>0.641176</td>\n",
       "      <td>0.613636</td>\n",
       "    </tr>\n",
       "    <tr>\n",
       "      <th>2</th>\n",
       "      <td>2</td>\n",
       "      <td>Armstrong County</td>\n",
       "      <td>12.6</td>\n",
       "      <td>1.7</td>\n",
       "      <td>2.3</td>\n",
       "      <td>1.6</td>\n",
       "      <td>8.2</td>\n",
       "      <td>10.3</td>\n",
       "      <td>11.4</td>\n",
       "      <td>10.829524</td>\n",
       "      <td>16.782778</td>\n",
       "      <td>15.458947</td>\n",
       "      <td>0.880000</td>\n",
       "      <td>0.868750</td>\n",
       "      <td>0.650000</td>\n",
       "    </tr>\n",
       "    <tr>\n",
       "      <th>3</th>\n",
       "      <td>3</td>\n",
       "      <td>Beaver County</td>\n",
       "      <td>14.7</td>\n",
       "      <td>1.9</td>\n",
       "      <td>1.4</td>\n",
       "      <td>1.2</td>\n",
       "      <td>8.1</td>\n",
       "      <td>6.3</td>\n",
       "      <td>5.6</td>\n",
       "      <td>11.861600</td>\n",
       "      <td>14.681304</td>\n",
       "      <td>13.998519</td>\n",
       "      <td>0.833333</td>\n",
       "      <td>1.044615</td>\n",
       "      <td>0.916667</td>\n",
       "    </tr>\n",
       "    <tr>\n",
       "      <th>4</th>\n",
       "      <td>4</td>\n",
       "      <td>Berks County</td>\n",
       "      <td>16.7</td>\n",
       "      <td>1.0</td>\n",
       "      <td>1.3</td>\n",
       "      <td>2.3</td>\n",
       "      <td>2.5</td>\n",
       "      <td>5.7</td>\n",
       "      <td>8.1</td>\n",
       "      <td>9.818605</td>\n",
       "      <td>6.944490</td>\n",
       "      <td>5.652097</td>\n",
       "      <td>0.820833</td>\n",
       "      <td>1.154098</td>\n",
       "      <td>0.825455</td>\n",
       "    </tr>\n",
       "  </tbody>\n",
       "</table>\n",
       "</div>"
      ],
      "text/plain": [
       "   Unnamed: 0            County  \\\n",
       "0           0      Adams County   \n",
       "1           1  Allegheny County   \n",
       "2           2  Armstrong County   \n",
       "3           3     Beaver County   \n",
       "4           4      Berks County   \n",
       "\n",
       "   Age-Adjusted Incidence Rate(‚Ä†) - cases per 100,000  \\\n",
       "0                                               17.5      \n",
       "1                                               16.3      \n",
       "2                                               12.6      \n",
       "3                                               14.7      \n",
       "4                                               16.7      \n",
       "\n",
       "   2014 Percentage of Children with Confirmed BLLs ≥ 10 µg/dL  \\\n",
       "0                                                1.6            \n",
       "1                                                1.2            \n",
       "2                                                1.7            \n",
       "3                                                1.9            \n",
       "4                                                1.0            \n",
       "\n",
       "   2015 Percentage of Children with Confirmed BLLs ≥ 10 µg/dL  \\\n",
       "0                                                1.6            \n",
       "1                                                1.0            \n",
       "2                                                2.3            \n",
       "3                                                1.4            \n",
       "4                                                1.3            \n",
       "\n",
       "   2016 Percentage of Children with Confirmed BLLs ≥ 10 µg/dL  \\\n",
       "0                                                1.1            \n",
       "1                                                0.9            \n",
       "2                                                1.6            \n",
       "3                                                1.2            \n",
       "4                                                2.3            \n",
       "\n",
       "   2014 Percentage of Children with Confirmed BLLs ≥ 5 µg/dL  \\\n",
       "0                                                8.2           \n",
       "1                                                5.4           \n",
       "2                                                8.2           \n",
       "3                                                8.1           \n",
       "4                                                2.5           \n",
       "\n",
       "   2015 Percentage of Children with Confirmed BLLs ≥ 5 µg/dL  \\\n",
       "0                                                7.0           \n",
       "1                                                4.6           \n",
       "2                                               10.3           \n",
       "3                                                6.3           \n",
       "4                                                5.7           \n",
       "\n",
       "   2016 Percentage of Children with Confirmed BLLs ≥ 5 µg/dL  \\\n",
       "0                                                4.7           \n",
       "1                                                3.8           \n",
       "2                                               11.4           \n",
       "3                                                5.6           \n",
       "4                                                8.1           \n",
       "\n",
       "   Weighted_Average_2014_HAA5  Weighted_Average_2015_HAA5  \\\n",
       "0                    9.026538                    5.805758   \n",
       "1                   14.252286                   18.495556   \n",
       "2                   10.829524                   16.782778   \n",
       "3                   11.861600                   14.681304   \n",
       "4                    9.818605                    6.944490   \n",
       "\n",
       "   Weighted_Average_2016_HAA5  Weighted_Average_2014_Arsenic  \\\n",
       "0                    6.104211                       0.700000   \n",
       "1                   15.983889                       0.663636   \n",
       "2                   15.458947                       0.880000   \n",
       "3                   13.998519                       0.833333   \n",
       "4                    5.652097                       0.820833   \n",
       "\n",
       "   Weighted_Average_2015_Arsenic  Weighted_Average_2016_Arsenic  \n",
       "0                       1.495946                       0.700000  \n",
       "1                       0.641176                       0.613636  \n",
       "2                       0.868750                       0.650000  \n",
       "3                       1.044615                       0.916667  \n",
       "4                       1.154098                       0.825455  "
      ]
     },
     "execution_count": 33,
     "metadata": {},
     "output_type": "execute_result"
    }
   ],
   "source": [
    "import pandas as pd\n",
    "import numpy as np\n",
    "import matplotlib.pyplot as plt\n",
    "\n",
    "pa = pd.read_csv('pennFinal2.csv')\n",
    "pa.head()"
   ]
  },
  {
   "cell_type": "markdown",
   "metadata": {},
   "source": [
    "<h3> Further Lead Exploration </h3>"
   ]
  },
  {
   "cell_type": "markdown",
   "metadata": {},
   "source": [
    "Here, we compare which counties are outliers for Leukemia incidence rate and for BLLs above five micrograms per deciliter. "
   ]
  },
  {
   "cell_type": "code",
   "execution_count": 34,
   "metadata": {},
   "outputs": [
    {
     "name": "stdout",
     "output_type": "stream",
     "text": [
      "               County  \\\n",
      "7      Cambria County   \n",
      "5        Blair County   \n",
      "15  Lackawanna County   \n",
      "26  Schuylkill County   \n",
      "27      Warren County   \n",
      "\n",
      "    2014 Percentage of Children with Confirmed BLLs ≥ 5 µg/dL  \n",
      "7                                                11.6          \n",
      "5                                                12.1          \n",
      "15                                               12.8          \n",
      "26                                               14.9          \n",
      "27                                               20.0          \n",
      "                 County  \\\n",
      "6          Bucks County   \n",
      "23    Montgomery County   \n",
      "4          Berks County   \n",
      "25  Philadelphia County   \n",
      "16     Lancaster County   \n",
      "\n",
      "    2014 Percentage of Children with Confirmed BLLs ≥ 5 µg/dL  \n",
      "6                                                 0.7          \n",
      "23                                                2.0          \n",
      "4                                                 2.5          \n",
      "25                                                3.3          \n",
      "16                                                3.8          \n"
     ]
    }
   ],
   "source": [
    "# Obtain counties and their BLL data\n",
    "leukemialist = pa[['County', '2014 Percentage of Children with Confirmed BLLs ≥ 5 µg/dL']]\n",
    "# Sort values by BLLs\n",
    "leukemialist = leukemialist.sort_values('2014 Percentage of Children with Confirmed BLLs ≥ 5 µg/dL')\n",
    "# Print top 5 and bottom 5 counties by blood-lead levels\n",
    "print(leukemialist.iloc[-5:])\n",
    "print(leukemialist.iloc[:5])"
   ]
  },
  {
   "cell_type": "markdown",
   "metadata": {},
   "source": [
    "Interestingly, only one of the top 5 counties in terms in Leukemia incidence rate are also on the list of top 5 counties by BLLs above 5 micrograms. Yet, three of the lowest 5 counties in terms in Leukemia incidence rate on the list of lowest 5 counties by BLLs above 5 micrograms. Possibly the most interesting result from this analysis is the fact that Lancaster county, which has the highest Leukemia rate in all of Pennsylvania, has the fifth lowest percentage of children with BLLs above 5 micrograms per deciliter. What this may suggest is that low blood-lead levels lead to lower Leukemia incidence rates, while high values have no effect. One outlier also stood out, Warren County, which had 20% of children tested having elevated BLLs. Despite this, it does not have one of the highest Leukemia incidence rates. Next, we examined above BLLs above ten micrograms. "
   ]
  },
  {
   "cell_type": "code",
   "execution_count": 35,
   "metadata": {},
   "outputs": [
    {
     "name": "stdout",
     "output_type": "stream",
     "text": [
      "               County  \\\n",
      "15  Lackawanna County   \n",
      "17     Lebanon County   \n",
      "5        Blair County   \n",
      "26  Schuylkill County   \n",
      "27      Warren County   \n",
      "\n",
      "    2014 Percentage of Children with Confirmed BLLs ≥ 10 µg/dL  \n",
      "15                                                2.7           \n",
      "17                                                3.0           \n",
      "5                                                 3.4           \n",
      "26                                                3.5           \n",
      "27                                                5.1           \n",
      "                 County  \\\n",
      "6          Bucks County   \n",
      "11      Delaware County   \n",
      "23    Montgomery County   \n",
      "25  Philadelphia County   \n",
      "8        Chester County   \n",
      "\n",
      "    2014 Percentage of Children with Confirmed BLLs ≥ 10 µg/dL  \n",
      "6                                                 0.3           \n",
      "11                                                0.5           \n",
      "23                                                0.6           \n",
      "25                                                0.8           \n",
      "8                                                 0.8           \n"
     ]
    }
   ],
   "source": [
    "# Obtain counties and their percentage of children with BLLs above ten micrograms \n",
    "leukemialist = pa[['County', '2014 Percentage of Children with Confirmed BLLs ≥ 10 µg/dL']]\n",
    "leukemialist = leukemialist.sort_values('2014 Percentage of Children with Confirmed BLLs ≥ 10 µg/dL')\n",
    "# Print top 5 counties\n",
    "print(leukemialist.iloc[-5:])\n",
    "# Print bottom 5 counties\n",
    "print(leukemialist.iloc[:5])"
   ]
  },
  {
   "cell_type": "markdown",
   "metadata": {},
   "source": [
    "For above ten micrograms, only one county with a top five percentage of BLLs above ten micrograms has one of the top 5 incidence rates. It is interesting to note though that Philadelphia, Montogomery, and Bucks county are all on the bottom for this analysis. This again may support our idea that low blood-lead levels affect Leukemia incidence rate while high ones do not. Based off of this initial analysis, we looked into the correlation and covariance between Leukemia incidence rates and blood-lead levels. "
   ]
  },
  {
   "cell_type": "markdown",
   "metadata": {},
   "source": [
    "<h3> Outlier Lead Value Analysis </h3>"
   ]
  },
  {
   "cell_type": "code",
   "execution_count": 36,
   "metadata": {},
   "outputs": [],
   "source": [
    "penn =pa[['Age-Adjusted Incidence Rate(‚Ä†) - cases per 100,000','2014 Percentage of Children with Confirmed BLLs ≥ 10 µg/dL']]\n",
    "# Remove the single blood-lead level outlier\n",
    "penn = penn.loc[penn['2014 Percentage of Children with Confirmed BLLs ≥ 10 µg/dL']!=penn['2014 Percentage of Children with Confirmed BLLs ≥ 10 µg/dL'].max()]"
   ]
  },
  {
   "cell_type": "code",
   "execution_count": 37,
   "metadata": {},
   "outputs": [
    {
     "data": {
      "text/plain": [
       "Text(0.5, 1.0, 'Cancer Incidence vs 2014 Percentage of Children with Confirmed BLLs ≥ 10 µg/dL')"
      ]
     },
     "execution_count": 37,
     "metadata": {},
     "output_type": "execute_result"
    },
    {
     "data": {
      "image/png": "[encoded data removed]",
      "text/plain": [
       "<Figure size 432x288 with 1 Axes>"
      ]
     },
     "metadata": {
      "needs_background": "light"
     },
     "output_type": "display_data"
    }
   ],
   "source": [
    "# Create scatter plot\n",
    "plt.scatter(penn['Age-Adjusted Incidence Rate(‚Ä†) - cases per 100,000'], penn['2014 Percentage of Children with Confirmed BLLs ≥ 10 µg/dL'])\n",
    "plt.xticks(np.arange(5, 25, step=5))\n",
    "plt.yticks(np.arange(0, 10, step=1))\n",
    "plt.xlabel('Cancer Incidence')\n",
    "plt.ylabel('2014 Percentage of BLLs ≥ 10 µg/dL')\n",
    "plt.title('Cancer Incidence vs 2014 Percentage of Children with Confirmed BLLs ≥ 10 µg/dL')"
   ]
  },
  {
   "cell_type": "code",
   "execution_count": 38,
   "metadata": {},
   "outputs": [
    {
     "name": "stdout",
     "output_type": "stream",
     "text": [
      "For 2014, the correlation is: 0.13 and the covariance is: 0.20 between percentage of children with blood lead levels above 10 micrograms and leukemia incidence\n"
     ]
    }
   ],
   "source": [
    "# Obtain correlation and covariance\n",
    "new_corr = penn['Age-Adjusted Incidence Rate(‚Ä†) - cases per 100,000'].corr(penn['2014 Percentage of Children with Confirmed BLLs ≥ 10 µg/dL'])\n",
    "new_cov = penn['Age-Adjusted Incidence Rate(‚Ä†) - cases per 100,000'].cov(penn['2014 Percentage of Children with Confirmed BLLs ≥ 10 µg/dL'])\n",
    "print(\"For 2014, the correlation is: {:.2f} and the covariance is: {:.2f} between percentage of children with blood lead levels above 10 micrograms and leukemia incidence\".format(new_corr,new_cov))"
   ]
  },
  {
   "cell_type": "markdown",
   "metadata": {},
   "source": [
    "Although the correlation and covariance found are still small, they describe the data much more accurately than the originals. These numbers suggest a weak positive correlation between blood lead levels above 10 micrograms and leukemia incidence rates.\n",
    "\n",
    "Now let's look at 5 micrograms:"
   ]
  },
  {
   "cell_type": "code",
   "execution_count": 39,
   "metadata": {},
   "outputs": [],
   "source": [
    "penn =pa[['Age-Adjusted Incidence Rate(‚Ä†) - cases per 100,000','2014 Percentage of Children with Confirmed BLLs ≥ 5 µg/dL']]\n",
    "# Remove the single blood-lead level outlier\n",
    "penn = penn.loc[penn['2014 Percentage of Children with Confirmed BLLs ≥ 5 µg/dL']!=penn['2014 Percentage of Children with Confirmed BLLs ≥ 5 µg/dL'].max()]"
   ]
  },
  {
   "cell_type": "code",
   "execution_count": 40,
   "metadata": {},
   "outputs": [
    {
     "data": {
      "text/plain": [
       "Text(0.5, 1.0, 'Cancer Incidence vs 2014 Percentage of Children with Confirmed BLLs ≥ 5 µg/dL')"
      ]
     },
     "execution_count": 40,
     "metadata": {},
     "output_type": "execute_result"
    },
    {
     "data": {
      "image/png": "[encoded data removed]",
      "text/plain": [
       "<Figure size 432x288 with 1 Axes>"
      ]
     },
     "metadata": {
      "needs_background": "light"
     },
     "output_type": "display_data"
    }
   ],
   "source": [
    "# Create scatter plot\n",
    "plt.scatter(penn['Age-Adjusted Incidence Rate(‚Ä†) - cases per 100,000'], penn['2014 Percentage of Children with Confirmed BLLs ≥ 5 µg/dL'])\n",
    "plt.xticks(np.arange(5, 25, step=5))\n",
    "plt.yticks(np.arange(0, 10, step=1))\n",
    "plt.xlabel('Cancer Incidence')\n",
    "plt.ylabel('2014 Percentage of BLLs ≥ 5 µg/dL')\n",
    "plt.title('Cancer Incidence vs 2014 Percentage of Children with Confirmed BLLs ≥ 5 µg/dL')"
   ]
  },
  {
   "cell_type": "code",
   "execution_count": 41,
   "metadata": {},
   "outputs": [
    {
     "name": "stdout",
     "output_type": "stream",
     "text": [
      "For 2014, the correlation is: 0.14 and the covariance is: 0.84 between percentage of children with blood lead levels above 5 micrograms and leukemia incidence\n"
     ]
    }
   ],
   "source": [
    "# Obtain correlation and covariance\n",
    "new_corr = penn['Age-Adjusted Incidence Rate(‚Ä†) - cases per 100,000'].corr(penn['2014 Percentage of Children with Confirmed BLLs ≥ 5 µg/dL'])\n",
    "new_cov = penn['Age-Adjusted Incidence Rate(‚Ä†) - cases per 100,000'].cov(penn['2014 Percentage of Children with Confirmed BLLs ≥ 5 µg/dL'])\n",
    "print(\"For 2014, the correlation is: {:.2f} and the covariance is: {:.2f} between percentage of children with blood lead levels above 5 micrograms and leukemia incidence\".format(new_corr,new_cov))"
   ]
  },
  {
   "cell_type": "markdown",
   "metadata": {},
   "source": [
    "As seen above, when the outlier is removed, the correlation and covariance are much better descriptors of the relationship. Although the correlation remains low, it is positive, which is seen in the graph. Further, the higher covariance may suggest there actually is a relationship betweem percentage blood lead levels above 5 micrograms and Leukemia incidence rates. Thus, there is much more to explore in this data."
   ]
  },
  {
   "cell_type": "markdown",
   "metadata": {},
   "source": [
    "When we explored Arsenic and HAA5 data, we found similar trends as what is seen with lead. This analysis can be found in the Data Exploration Appendix. "
   ]
  },
  {
   "cell_type": "markdown",
   "metadata": {},
   "source": [
    "### Let us begin with Arsenic data... "
   ]
  },
  {
   "cell_type": "markdown",
   "metadata": {},
   "source": [
    "We were first interested in understanding the distribution of arsenic levels throughout Pennsylvania. "
   ]
  },
  {
   "cell_type": "code",
   "execution_count": 42,
   "metadata": {},
   "outputs": [
    {
     "name": "stdout",
     "output_type": "stream",
     "text": [
      "For 2016, the mean arsenic level in drinking water is: 1.36 ,the median is: 0.88 ,and the standard deviation is: 1.00 \n"
     ]
    }
   ],
   "source": [
    "arsenic_2016 = pa['Weighted_Average_2016_Arsenic'].dropna()\n",
    "# Calculate mean, median, std, correlation and covariance\n",
    "arsenic_2016_mean = arsenic_2016.mean()\n",
    "arsenic_2016_median = arsenic_2016.median()\n",
    "arsenic_2016_std = arsenic_2016.std()\n",
    "print(\"For 2016, the mean arsenic level in drinking water is: {:.2f} ,the median is: {:.2f} ,and the standard deviation is: {:.2f} \".format(arsenic_2016_mean,arsenic_2016_median,arsenic_2016_std))"
   ]
  },
  {
   "cell_type": "markdown",
   "metadata": {},
   "source": [
    "This initial result is interesting as, similar lead data, the standard deviation is as large as the median. Additionally, there is a large difference between the mean and median. This suggests there is a very large spread of arsenic levels throughout Pennsylvania."
   ]
  },
  {
   "cell_type": "code",
   "execution_count": 43,
   "metadata": {},
   "outputs": [
    {
     "data": {
      "text/plain": [
       "Text(0.5, 1.0, 'Spread of Arsenic Levels in Pennsylvania')"
      ]
     },
     "execution_count": 43,
     "metadata": {},
     "output_type": "execute_result"
    },
    {
     "data": {
      "image/png": "[encoded data removed]",
      "text/plain": [
       "<Figure size 432x288 with 1 Axes>"
      ]
     },
     "metadata": {
      "needs_background": "light"
     },
     "output_type": "display_data"
    }
   ],
   "source": [
    "plt.violinplot([pa['Weighted_Average_2014_Arsenic'], pa['Weighted_Average_2015_Arsenic'],pa['Weighted_Average_2016_Arsenic']])\n",
    "plt.xticks(ticks = [1,2,3],labels = ['2014','2015','2016'])\n",
    "plt.ylabel('Arsenic Level (Micrograms/Liter)')\n",
    "plt.title('Spread of Arsenic Levels in Pennsylvania')"
   ]
  },
  {
   "cell_type": "markdown",
   "metadata": {},
   "source": [
    "This graph is extremely interesting as it, unlike blood-lead levels, seems to have signficant variation from year to year. This is especially true when comparing 2014 to 2015. There could be multiple reasons for this, but the most likely is the possibility that arsenic levels were not tested at the same location each year. Testing at different sites would lead to the trend seen above."
   ]
  },
  {
   "cell_type": "markdown",
   "metadata": {},
   "source": [
    "Let's further analyze this by looking at correlation from year to year:"
   ]
  },
  {
   "cell_type": "code",
   "execution_count": 44,
   "metadata": {},
   "outputs": [
    {
     "name": "stdout",
     "output_type": "stream",
     "text": [
      "The correlation between 2014 and 2015 regarding arsenic levels in drinking water is 0.56\n",
      "The correlation between 2015 and 2016 regarding arsenic levels in drinking water is 0.74\n"
     ]
    }
   ],
   "source": [
    "# Calculate correlations from year to year\n",
    "corr_years = pa['Weighted_Average_2014_Arsenic'].corr(pa['Weighted_Average_2015_Arsenic'])\n",
    "print(\"The correlation between 2014 and 2015 regarding arsenic levels in drinking water is {:.2f}\".format(corr_years))\n",
    "corr_years = pa['Weighted_Average_2015_Arsenic'].corr(pa['Weighted_Average_2016_Arsenic'])\n",
    "print(\"The correlation between 2015 and 2016 regarding arsenic levels in drinking water is {:.2f}\".format(corr_years))"
   ]
  },
  {
   "cell_type": "markdown",
   "metadata": {},
   "source": [
    "These correlation values indicate that arsenic levels in water change significantly from year to year, even in similar counties. This could possibly suggest that arsenic levels will not be a good predictor of Leukemia levels as they are not consistent over time. Despite this, we deciced to explore 2016 as our representative year for arsenic data, seeming to be between 2014 and 2015 in terms of variation. First, we hoped to discover if counties with high incidence rates overlap with counties with high arsenic levels. \n"
   ]
  },
  {
   "cell_type": "code",
   "execution_count": 45,
   "metadata": {
    "scrolled": true
   },
   "outputs": [
    {
     "name": "stdout",
     "output_type": "stream",
     "text": [
      "               County  Weighted_Average_2016_Arsenic\n",
      "21      McKean County                       1.150000\n",
      "19     Luzerne County                       1.455000\n",
      "20    Lycoming County                       2.367500\n",
      "15  Lackawanna County                       2.755000\n",
      "12        Erie County                       2.792500\n",
      "6        Bucks County                       2.795714\n",
      "9     Crawford County                       2.815000\n",
      "30        York County                       3.172857\n",
      "23  Montgomery County                       3.491429\n",
      "27      Warren County                       3.550000\n"
     ]
    }
   ],
   "source": [
    "leukemialist = pa[['County', 'Weighted_Average_2016_Arsenic']]\n",
    "leukemialist = leukemialist.sort_values('Weighted_Average_2016_Arsenic')\n",
    "print(leukemialist.iloc[-10:])"
   ]
  },
  {
   "cell_type": "markdown",
   "metadata": {},
   "source": [
    "Of the ten counties with highest arsenic levels only one of them, Crawford County, appears on the list of the top 5 Leukemia incidence rates. This is counterintuitive as arsenic has been found in multiple studies to correlate with other cancers, such as lung and kidney cancer. This may suggest that there is little correlation between incidence rate and arsenic levels. This is explored further below. "
   ]
  },
  {
   "cell_type": "code",
   "execution_count": 46,
   "metadata": {},
   "outputs": [
    {
     "name": "stdout",
     "output_type": "stream",
     "text": [
      "The correlation between arsenic levels in drinking water and leukemia rates in 2016 is -0.23\n"
     ]
    }
   ],
   "source": [
    "arsenic_corr_2016 = pa['Age-Adjusted Incidence Rate(‚Ä†) - cases per 100,000'].corr(pa['Weighted_Average_2016_Arsenic'])\n",
    "print(\"The correlation between arsenic levels in drinking water and leukemia rates in 2016 is {:.2f}\".format(arsenic_corr_2016))"
   ]
  },
  {
   "cell_type": "markdown",
   "metadata": {},
   "source": [
    "This again did not make sense to us, so let's look at the scatter plot between arsenic levels and incidence rate. "
   ]
  },
  {
   "cell_type": "code",
   "execution_count": 47,
   "metadata": {},
   "outputs": [
    {
     "data": {
      "text/plain": [
       "Text(0.5, 1.0, 'Cancer Incidence vs 2016 Arsenic Levels')"
      ]
     },
     "execution_count": 47,
     "metadata": {},
     "output_type": "execute_result"
    },
    {
     "data": {
      "image/png": "[encoded data removed]",
      "text/plain": [
       "<Figure size 432x288 with 1 Axes>"
      ]
     },
     "metadata": {
      "needs_background": "light"
     },
     "output_type": "display_data"
    }
   ],
   "source": [
    "# Create scatter plot of Arsenic levels vs Leukemia incidence rate\n",
    "plt.scatter(pa['Age-Adjusted Incidence Rate(‚Ä†) - cases per 100,000'], pa['Weighted_Average_2016_Arsenic'])\n",
    "plt.xticks(np.arange(10, 25, step=5))\n",
    "plt.yticks(np.arange(0, 5, step=1))\n",
    "plt.xlabel('Cancer Incidence')\n",
    "plt.ylabel('2016 Arsenic Levels')\n",
    "plt.title('Cancer Incidence vs 2016 Arsenic Levels')"
   ]
  },
  {
   "cell_type": "markdown",
   "metadata": {},
   "source": [
    "Unlike the analysis between incidence rates and blood-lead levels, there is not one clear outlier in this dataset. Therefore, it can be inferred with rather strong confidence that there is little correlation between arsenic levels and incidence rate alone. What we did find is the fact that there are two distinct groups in the plot: one group with arsenic levels above 2 micrograms per liter and one group distinctly below 2 micrograms per liter. We wanted to see if this two group trend exists for HAA5 data as well, possibly suggesting that certain counties have higher all-around levels of carcinogens. For reference, the group of higher Arsenic levels in listed below and we will compare this group to the group of counties with higher HAA5 levels."
   ]
  },
  {
   "cell_type": "code",
   "execution_count": 48,
   "metadata": {},
   "outputs": [
    {
     "name": "stdout",
     "output_type": "stream",
     "text": [
      "               County  Weighted_Average_2016_Arsenic\n",
      "20    Lycoming County                       2.367500\n",
      "15  Lackawanna County                       2.755000\n",
      "12        Erie County                       2.792500\n",
      "6        Bucks County                       2.795714\n",
      "9     Crawford County                       2.815000\n",
      "30        York County                       3.172857\n",
      "23  Montgomery County                       3.491429\n",
      "27      Warren County                       3.550000\n"
     ]
    }
   ],
   "source": [
    "# Obtain counties and their percentage of children with BLLs above ten micrograms \n",
    "arsenic = pa[['County', 'Weighted_Average_2016_Arsenic']]\n",
    "arsenic = arsenic.sort_values('Weighted_Average_2016_Arsenic')\n",
    "# Print top group\n",
    "print(arsenic.iloc[-8:])"
   ]
  },
  {
   "cell_type": "markdown",
   "metadata": {},
   "source": [
    "### Now, let us look at HAA5 data..."
   ]
  },
  {
   "cell_type": "code",
   "execution_count": 49,
   "metadata": {},
   "outputs": [
    {
     "name": "stdout",
     "output_type": "stream",
     "text": [
      "For 2016, the mean HAA5 level in drinking water is: 11.41 ,the median is: 8.93 ,and the standard deviation is: 8.55 \n"
     ]
    }
   ],
   "source": [
    "haa5_2016 = pa['Weighted_Average_2016_HAA5'].dropna()\n",
    "# Calculate mean, median, std, correlation and covariance\n",
    "haa5_2016_mean = haa5_2016.mean()\n",
    "haa5_2016_median = haa5_2016.median()\n",
    "haa5_2016_std = haa5_2016.std()\n",
    "print(\"For 2016, the mean HAA5 level in drinking water is: {:.2f} ,the median is: {:.2f} ,and the standard deviation is: {:.2f} \".format(haa5_2016_mean,haa5_2016_median,haa5_2016_std))"
   ]
  },
  {
   "cell_type": "markdown",
   "metadata": {},
   "source": [
    "We see right away that the levels of HAA5 in drinking water is far larger in concentration as opposed to the carginogen arsenic. This is important to note as this concentration could be due to a natural level of the HAA5 carcinogen that may be found within the body, and may prove more importance to our analyses later on."
   ]
  },
  {
   "cell_type": "code",
   "execution_count": 50,
   "metadata": {},
   "outputs": [
    {
     "data": {
      "text/plain": [
       "Text(0.5, 1.0, 'Spread of HAA5 Levels in Pennsylvania')"
      ]
     },
     "execution_count": 50,
     "metadata": {},
     "output_type": "execute_result"
    },
    {
     "data": {
      "image/png": "[encoded data removed]",
      "text/plain": [
       "<Figure size 432x288 with 1 Axes>"
      ]
     },
     "metadata": {
      "needs_background": "light"
     },
     "output_type": "display_data"
    }
   ],
   "source": [
    "plt.violinplot([pa['Weighted_Average_2014_HAA5'], pa['Weighted_Average_2015_HAA5'],pa['Weighted_Average_2016_HAA5']])\n",
    "plt.xticks(ticks = [1,2,3],labels = ['2014','2015','2016'])\n",
    "plt.ylabel('HAA5 Level (Micrograms/liter)')\n",
    "plt.title('Spread of HAA5 Levels in Pennsylvania')"
   ]
  },
  {
   "cell_type": "markdown",
   "metadata": {},
   "source": [
    "This graph is consistent to the mean, median and standard deviation that we saw previously — as opposed to that of the arsenic data. We see that, in all three years, there is a relative consistent range that the HAA5 level in contained within at approximately 3 - 31 Micrograms/Liter. While there is some variation (around 1-5 Micrograms/Liter) in some of the years, all three are relatively similar in spread. This is consistent with the statistics we had calculated as they seemed relatively high compared to that of the arsenic data."
   ]
  },
  {
   "cell_type": "code",
   "execution_count": 51,
   "metadata": {},
   "outputs": [
    {
     "name": "stdout",
     "output_type": "stream",
     "text": [
      "The correlation between 2014 and 2015 regarding HAA5 levels in drinking water is 0.86\n",
      "The correlation between 2015 and 2016 regarding HAA5 levels in drinking water is 0.80\n"
     ]
    }
   ],
   "source": [
    "corr_years_haa5 = pa['Weighted_Average_2014_HAA5'].corr(pa['Weighted_Average_2015_HAA5'])\n",
    "print(\"The correlation between 2014 and 2015 regarding HAA5 levels in drinking water is {:.2f}\".format(corr_years_haa5))\n",
    "corr_years_second = pa['Weighted_Average_2015_HAA5'].corr(pa['Weighted_Average_2016_HAA5'])\n",
    "print(\"The correlation between 2015 and 2016 regarding HAA5 levels in drinking water is {:.2f}\".format(corr_years_second))\n"
   ]
  },
  {
   "cell_type": "markdown",
   "metadata": {},
   "source": [
    "Having calculated the correlations of HAA5 concentrations between the years of 2014 vs. 2015, and that of 2015 vs. 2016, we see that there are very strong correlations. We can assume from these calculations that the HAA5 levels from year to year are closely related, as compared to that of the arsenic levels we observed previously. "
   ]
  },
  {
   "cell_type": "code",
   "execution_count": 52,
   "metadata": {},
   "outputs": [
    {
     "name": "stdout",
     "output_type": "stream",
     "text": [
      "                 County  Weighted_Average_2016_HAA5\n",
      "12          Erie County                   11.265152\n",
      "11      Delaware County                   13.008000\n",
      "3         Beaver County                   13.998519\n",
      "2      Armstrong County                   15.458947\n",
      "1      Allegheny County                   15.983889\n",
      "29  Westmoreland County                   17.047692\n",
      "7        Cambria County                   18.253438\n",
      "25  Philadelphia County                   31.880000\n",
      "28    Washington County                   32.256667\n",
      "14       Indiana County                   38.155882\n"
     ]
    }
   ],
   "source": [
    "leukemialist = pa[['County', 'Weighted_Average_2016_HAA5']]\n",
    "leukemialist = leukemialist.sort_values('Weighted_Average_2016_HAA5')\n",
    "print(leukemialist.iloc[-10:])"
   ]
  },
  {
   "cell_type": "markdown",
   "metadata": {},
   "source": [
    "Of the ten counties with highest HAA5 levels only one of them, Indiana County, appears on the list of the top 5 Leukemia incidence rates. This is again counterintuitive as HAA5 has been found in multiple studies to correlate with other cancers. This may suggest that there is little correlation between incidence rate and HAA5 levels. This is explored further below. "
   ]
  },
  {
   "cell_type": "code",
   "execution_count": 53,
   "metadata": {},
   "outputs": [
    {
     "name": "stdout",
     "output_type": "stream",
     "text": [
      "The correlation between HAA5 levels in drinking water and leukemia rates in 2016 is 0.02\n"
     ]
    }
   ],
   "source": [
    "haa5_corr_2016 = pa['Age-Adjusted Incidence Rate(‚Ä†) - cases per 100,000'].corr(pa['Weighted_Average_2016_HAA5'])\n",
    "print(\"The correlation between HAA5 levels in drinking water and leukemia rates in 2016 is {:.2f}\".format(haa5_corr_2016))"
   ]
  },
  {
   "cell_type": "markdown",
   "metadata": {},
   "source": [
    "From the above calculations, we see that the correlation between HAA5 levels in drinking water and Leukemia rates in 2016 is very low with a calculated correlation of 0.02. This is very far from 1.0, thus this is a weak relationship. This alludes to the fact that there is not a good relationship between HAA5 concentrations within water and the Leukemia incidence rates. This is quite counter-intuitive, given the information that has been found in HAA5-Cancer research. "
   ]
  },
  {
   "cell_type": "markdown",
   "metadata": {},
   "source": [
    "Let's look into this relationship further, as represented graphically:"
   ]
  },
  {
   "cell_type": "code",
   "execution_count": 54,
   "metadata": {},
   "outputs": [
    {
     "data": {
      "text/plain": [
       "Text(0.5, 1.0, 'Cancer Incidence vs 2016 HAA5 Levels')"
      ]
     },
     "execution_count": 54,
     "metadata": {},
     "output_type": "execute_result"
    },
    {
     "data": {
      "image/png": "[encoded data removed]",
      "text/plain": [
       "<Figure size 432x288 with 1 Axes>"
      ]
     },
     "metadata": {
      "needs_background": "light"
     },
     "output_type": "display_data"
    }
   ],
   "source": [
    "plt.scatter(pa['Age-Adjusted Incidence Rate(‚Ä†) - cases per 100,000'], pa['Weighted_Average_2016_HAA5'])\n",
    "plt.xticks(np.arange(10, 25, step=5))\n",
    "plt.yticks(np.arange(0, 5, step=5))\n",
    "plt.xlabel('Cancer Incidence')\n",
    "plt.ylabel('2016 HAA5 Levels')\n",
    "plt.title('Cancer Incidence vs 2016 HAA5 Levels')"
   ]
  },
  {
   "cell_type": "markdown",
   "metadata": {},
   "source": [
    "The above scatterplot demonstrates what we have discussed previously about the correlation calculations for HAA5 water concentrations and Leukemia incidence rates. This scatterplot demonstrates the same weak correlation that we saw in the calculation itself. Again, two distinct groups form. We wanted to better understand the outliers and determine whether they are in the same counties as outliers for arsenic data. Which counties are in the outlier group?"
   ]
  },
  {
   "cell_type": "code",
   "execution_count": 55,
   "metadata": {},
   "outputs": [
    {
     "name": "stdout",
     "output_type": "stream",
     "text": [
      "                 County  Weighted_Average_2016_HAA5\n",
      "25  Philadelphia County                   31.880000\n",
      "28    Washington County                   32.256667\n",
      "14       Indiana County                   38.155882\n"
     ]
    }
   ],
   "source": [
    "#Obtain counties and their percentage of children with BLLs above ten micrograms \n",
    "haa5 = pa[['County', 'Weighted_Average_2016_HAA5']]\n",
    "haa5 = haa5.sort_values('Weighted_Average_2016_HAA5')\n",
    "#Print top group\n",
    "print(haa5.iloc[-3:])"
   ]
  },
  {
   "cell_type": "markdown",
   "metadata": {},
   "source": [
    "There is no overlap between the counties with the highest Arsenic levels and the highest HAA5 levels, refuting our previous idea that high carcinogen levels come in clusters. Despite this, we must remember that there are thousands of carcinogens, only two of which are analyzed here. "
   ]
  },
  {
   "cell_type": "markdown",
   "metadata": {},
   "source": [
    "### What happens when we remove outliers?"
   ]
  },
  {
   "cell_type": "markdown",
   "metadata": {},
   "source": [
    "Similar to the lead data, it seems that outliers may be causing the correlation to be lower than the true trend. In our final data exploration, we wanted to see whether a correlation exists when the outliers are removed."
   ]
  },
  {
   "cell_type": "code",
   "execution_count": 56,
   "metadata": {},
   "outputs": [],
   "source": [
    "#Obtain HAA5 data and incidence rate and remove the three outliers of HAA5 levels. \n",
    "penn =pa[['Age-Adjusted Incidence Rate(‚Ä†) - cases per 100,000','Weighted_Average_2016_HAA5']]\n",
    "penn = penn.loc[penn['Weighted_Average_2016_HAA5']!=penn['Weighted_Average_2016_HAA5'].max()]\n",
    "penn = penn.loc[penn['Weighted_Average_2016_HAA5']!=penn['Weighted_Average_2016_HAA5'].max()]\n",
    "penn = penn.loc[penn['Weighted_Average_2016_HAA5']!=penn['Weighted_Average_2016_HAA5'].max()]"
   ]
  },
  {
   "cell_type": "code",
   "execution_count": 57,
   "metadata": {},
   "outputs": [
    {
     "data": {
      "text/plain": [
       "Text(0.5, 1.0, 'Cancer Incidence vs 2016 HAA5 Levels Ouliers Removed')"
      ]
     },
     "execution_count": 57,
     "metadata": {},
     "output_type": "execute_result"
    },
    {
     "data": {
      "image/png": "[encoded data removed]",
      "text/plain": [
       "<Figure size 432x288 with 1 Axes>"
      ]
     },
     "metadata": {
      "needs_background": "light"
     },
     "output_type": "display_data"
    }
   ],
   "source": [
    "#Create scatter plot\n",
    "plt.scatter(penn['Age-Adjusted Incidence Rate(‚Ä†) - cases per 100,000'], penn['Weighted_Average_2016_HAA5'])\n",
    "plt.xticks(np.arange(10, 25, step=5))\n",
    "plt.yticks(np.arange(0, 5, step=5))\n",
    "plt.xlabel('Cancer Incidence')\n",
    "plt.ylabel('2016 HAA5 Levels')\n",
    "plt.title('Cancer Incidence vs 2016 HAA5 Levels Ouliers Removed')"
   ]
  },
  {
   "cell_type": "markdown",
   "metadata": {},
   "source": [
    "This graph shows a somewhat stronger correlation possibly, but it is unlikely to show strong correlation as it does seem rathe random. This is especially due to the low HAA5 levels towards the right side of the graph. Let's see the exact correlation found."
   ]
  },
  {
   "cell_type": "code",
   "execution_count": 58,
   "metadata": {},
   "outputs": [
    {
     "name": "stdout",
     "output_type": "stream",
     "text": [
      "The correlation between HAA5 levels in drinking water and leukemia rates in 2016 is -0.21\n"
     ]
    }
   ],
   "source": [
    "haa5_corr_2016 = penn['Age-Adjusted Incidence Rate(‚Ä†) - cases per 100,000'].corr(penn['Weighted_Average_2016_HAA5'])\n",
    "print(\"The correlation between HAA5 levels in drinking water and leukemia rates in 2016 is {:.2f}\".format(haa5_corr_2016))"
   ]
  },
  {
   "cell_type": "markdown",
   "metadata": {},
   "source": [
    "Interestingly, the correlation is now stronger than before and is negative. This is an extremely interesting finding and may hint towards their being no correlation between HAA5 levels in drinking water and Leukemia incidence rate. "
   ]
  },
  {
   "cell_type": "code",
   "execution_count": null,
   "metadata": {},
   "outputs": [],
   "source": []
  }
 ],
 "metadata": {
  "kernelspec": {
   "display_name": "Python 3",
   "language": "python",
   "name": "python3"
  },
  "language_info": {
   "codemirror_mode": {
    "name": "ipython",
    "version": 3
   },
   "file_extension": ".py",
   "mimetype": "text/x-python",
   "name": "python",
   "nbconvert_exporter": "python",
   "pygments_lexer": "ipython3",
   "version": "3.8.5"
  }
 },
 "nbformat": 4,
 "nbformat_minor": 2
}
